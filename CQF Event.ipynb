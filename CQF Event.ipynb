{
 "cells": [
  {
   "cell_type": "markdown",
   "metadata": {},
   "source": [
    "# CQF Python Question 1"
   ]
  },
  {
   "cell_type": "markdown",
   "metadata": {},
   "source": [
    "####Import modules"
   ]
  },
  {
   "cell_type": "code",
   "execution_count": 336,
   "metadata": {
    "collapsed": false
   },
   "outputs": [],
   "source": [
    "import matplotlib.pyplot as plt #Standard plotting package\n",
    "import numpy as np #Standard array packaged\n",
    "from matplotlib import rcParams #This allows us to edit the default plotting properties\n",
    "from nag4py.s import s30qcc, Nag_OrderType #S Chapter Functions\n",
    "from nag4py.util import Nag_RowMajor, quiet_fail, Nag_Call, Nag_Put, Nag_Comm, nag_int_type, Nag_QP1,Nag_NoPrint #NAG Utilities\n",
    "#This allows us to plot inline.\n",
    "%matplotlib inline "
   ]
  },
  {
   "cell_type": "markdown",
   "metadata": {},
   "source": [
    "####Set rcParams"
   ]
  },
  {
   "cell_type": "code",
   "execution_count": 337,
   "metadata": {
    "collapsed": false
   },
   "outputs": [],
   "source": [
    "params = {\n",
    "   'axes.labelsize': 8,\n",
    "   'font.size': 8,\n",
    "   'legend.fontsize': 10,\n",
    "   'xtick.labelsize': 10,\n",
    "   'ytick.labelsize': 10,\n",
    "   'text.usetex': False,\n",
    "   'figure.figsize': [4.5, 4.5]\n",
    "   }\n",
    "rcParams.update(params) #Update using the dictionary params"
   ]
  },
  {
   "cell_type": "markdown",
   "metadata": {},
   "source": [
    "####Define AmericanOptions"
   ]
  },
  {
   "cell_type": "code",
   "execution_count": 338,
   "metadata": {
    "collapsed": false
   },
   "outputs": [],
   "source": [
    "def AmericanOption(S, K, T, r, q, sigma, callput):\n",
    "    K = np.asarray(K, dtype = float) #s30qcc requires K to be a Numpy array with data type float\n",
    "    T = np.asarray(T, dtype = float) #s30qcc requires T to be a Numpy array with data type float\n",
    "    p = np.empty(K.size * T.size) #s30qcc requires p to be a Numpy array\n",
    "    s30qcc(Nag_RowMajor, callput, K.size, T.size, K, S, T, sigma, r, q, p, quiet_fail())\n",
    "    return p #Return the price array"
   ]
  },
  {
   "cell_type": "markdown",
   "metadata": {},
   "source": [
    "###Part A\n",
    "####Set Variables"
   ]
  },
  {
   "cell_type": "code",
   "execution_count": 339,
   "metadata": {
    "collapsed": false
   },
   "outputs": [],
   "source": [
    "S = 110; K = 100; T = 0.25; r = 0.08; q = 0.12; sigma = 0.2"
   ]
  },
  {
   "cell_type": "markdown",
   "metadata": {},
   "source": [
    "####Call AmericanOptions"
   ]
  },
  {
   "cell_type": "code",
   "execution_count": 340,
   "metadata": {
    "collapsed": false
   },
   "outputs": [
    {
     "name": "stdout",
     "output_type": "stream",
     "text": [
      "10.3340300268\n"
     ]
    }
   ],
   "source": [
    "print(AmericanOption(S, K, T, r, q, sigma, Nag_Call)[0])"
   ]
  },
  {
   "cell_type": "markdown",
   "metadata": {},
   "source": [
    "###Part B\n",
    "####Set Variables"
   ]
  },
  {
   "cell_type": "code",
   "execution_count": 341,
   "metadata": {
    "collapsed": false
   },
   "outputs": [],
   "source": [
    "K = np.linspace(50, 150, 1000)"
   ]
  },
  {
   "cell_type": "markdown",
   "metadata": {},
   "source": [
    "####Call AmericanOptions"
   ]
  },
  {
   "cell_type": "code",
   "execution_count": 342,
   "metadata": {
    "collapsed": false
   },
   "outputs": [],
   "source": [
    "price = AmericanOption(S, K, T, r, q, sigma, Nag_Put)"
   ]
  },
  {
   "cell_type": "markdown",
   "metadata": {},
   "source": [
    "####Plot Result"
   ]
  },
  {
   "cell_type": "code",
   "execution_count": 343,
   "metadata": {
    "collapsed": false
   },
   "outputs": [
    {
     "data": {
      "image/png": "[encoded data removed]",
      "text/plain": [
       "<matplotlib.figure.Figure at 0xba62278>"
      ]
     },
     "metadata": {},
     "output_type": "display_data"
    }
   ],
   "source": [
    "fig, ax = plt.subplots()\n",
    "ax.plot(K, price,linewidth = 2, color = '#006BB2', label = 'Price')\n",
    "legend = ax.legend(loc = 2)\n",
    "frame = legend.get_frame()\n",
    "frame.set_facecolor('0.9')\n",
    "frame.set_edgecolor('0.9')\n",
    "ax.set_xlim(50, 150)\n",
    "ax.set_xticks(np.linspace(50, 150, 11));\n",
    "ax.set_xlabel('Strike Price')\n",
    "ax.set_title('American Put Price Using Bjerksund/Stensland Approximation', y=1.01)\n",
    "ax.set_ylabel('Option Price');"
   ]
  },
  {
   "cell_type": "markdown",
   "metadata": {},
   "source": [
    "#CQF Python Question 2\n",
    "\n",
    "####Import Modules"
   ]
  },
  {
   "cell_type": "code",
   "execution_count": 344,
   "metadata": {
    "collapsed": true
   },
   "outputs": [],
   "source": [
    "from nag4py.c05 import NAG_C05AWC_FUN, c05awc"
   ]
  },
  {
   "cell_type": "markdown",
   "metadata": {},
   "source": [
    "####Set Variables"
   ]
  },
  {
   "cell_type": "code",
   "execution_count": 345,
   "metadata": {
    "collapsed": false
   },
   "outputs": [],
   "source": [
    "K = np.asarray(90, dtype = float)\n",
    "T = np.asarray(1.5, dtype = float)\n",
    "S = 100\n",
    "r = 0.03\n",
    "q = 0.015\n",
    "Target = 12.35008695\n",
    "eps = 1.0e-6\n",
    "eta = 1.0e-6\n",
    "nfmax = 1500\n",
    "sigma = np.asarray(0.15, dtype = float)"
   ]
  },
  {
   "cell_type": "markdown",
   "metadata": {},
   "source": [
    "####Define BS_Callback"
   ]
  },
  {
   "cell_type": "code",
   "execution_count": 346,
   "metadata": {
    "collapsed": true
   },
   "outputs": [],
   "source": [
    "def BS_Callback(sigma, comm):\n",
    "    p = np.empty(K.size * T.size)\n",
    "    s30qcc(Nag_RowMajor, Nag_Call, K.size, T.size, K, S, T, sigma, r, q, p, quiet_fail())\n",
    "    return Target - p"
   ]
  },
  {
   "cell_type": "markdown",
   "metadata": {},
   "source": [
    "####Call c05awc to find the root"
   ]
  },
  {
   "cell_type": "code",
   "execution_count": 347,
   "metadata": {
    "collapsed": false
   },
   "outputs": [],
   "source": [
    "c05awc(sigma, eps, eta, NAG_C05AWC_FUN(BS_Callback), nfmax, Nag_Comm(), quiet_fail())"
   ]
  },
  {
   "cell_type": "markdown",
   "metadata": {},
   "source": [
    "####Implied Volatility"
   ]
  },
  {
   "cell_type": "code",
   "execution_count": 348,
   "metadata": {
    "collapsed": false
   },
   "outputs": [
    {
     "name": "stdout",
     "output_type": "stream",
     "text": [
      "0.09000096312015533\n"
     ]
    }
   ],
   "source": [
    "print(sigma.tolist())"
   ]
  },
  {
   "cell_type": "markdown",
   "metadata": {},
   "source": [
    "#CQF Python Question 3\n",
    "####Import Modules"
   ]
  },
  {
   "cell_type": "code",
   "execution_count": 349,
   "metadata": {
    "collapsed": true
   },
   "outputs": [],
   "source": [
    "from nag4py.e04 import e04ncc, Nag_E04_Opt, nag_opt_init"
   ]
  },
  {
   "cell_type": "markdown",
   "metadata": {},
   "source": [
    "####Define solveMarkowitz"
   ]
  },
  {
   "cell_type": "code",
   "execution_count": 350,
   "metadata": {
    "collapsed": false
   },
   "outputs": [],
   "source": [
    "def solveMarkowitz(mu, SectorConstraints):\n",
    "    h = np.array([[5.85,-2.58, 1.41,-3.13, 1.21],\n",
    "                  [-2.58, 3.97, -2.00, 1.71, -3.21],\n",
    "                  [1.41, -2.00, 5.15, 4.53, 1.51],\n",
    "                  [-3.13, 1.71, 4.53, 7.95, 5.43],\n",
    "                  [1.21, -3.21, 1.51, 5.43, 7.65]], dtype=float)\n",
    "    n = 5\n",
    "    m = 5\n",
    "    if SectorConstraints:\n",
    "        nclin = 3\n",
    "        a = np.array([[-0.068, 0.103, 0.087, 0.135, 0.07], \n",
    "                      [1.0, 1.0, 1.0, 1.0, 1.0],\n",
    "                      [0.0, 1.0, 1.0, 0.0, 0.0]])\n",
    "        bl = np.array([-1, -1, -1, -1, -1, mu, 1, -100], dtype = float)\n",
    "        bu = np.array([1, 1, 1, 1, 1, mu, 1, 0.5], dtype = float)\n",
    "    else:\n",
    "        nclin = 2\n",
    "        a = np.array([[-0.068, 0.103, 0.087, 0.135, 0.07], \n",
    "                      [1.0, 1.0, 1.0, 1.0, 1.0]])\n",
    "        bl = np.array([-1, -1, -1, -1, -1, mu, 1], dtype = float)\n",
    "        bu = np.array([1, 1, 1, 1, 1, mu, 1], dtype = float)\n",
    "    tda = 5\n",
    "    cvec = np.empty(0)\n",
    "    b = np.empty(0)\n",
    "    tdh = 5\n",
    "    kx = np.empty(n, dtype=nag_int_type)\n",
    "    x = np.array([1.0, 1.0, 1.0, 1.0, 1.0])\n",
    "    objf = np.empty(1) \n",
    "    options = Nag_E04_Opt()\n",
    "    nag_opt_init(options)\n",
    "    options.prob = Nag_QP1\n",
    "    options.print_level = Nag_NoPrint\n",
    "    options.list = 0\n",
    "    fail = quiet_fail()\n",
    "    e04ncc(m, n, nclin, a, tda, bl, bu, cvec, b, h, tdh, kx, x, objf, options, Nag_Comm(), fail)\n",
    "    if not fail.code:\n",
    "        return 2 * objf[0]\n",
    "    else:\n",
    "        return -1.0"
   ]
  },
  {
   "cell_type": "markdown",
   "metadata": {},
   "source": [
    "###Part A"
   ]
  },
  {
   "cell_type": "code",
   "execution_count": 351,
   "metadata": {
    "collapsed": false
   },
   "outputs": [
    {
     "name": "stdout",
     "output_type": "stream",
     "text": [
      "0.301877133072\n"
     ]
    }
   ],
   "source": [
    "print(solveMarkowitz(0.1, False))"
   ]
  },
  {
   "cell_type": "markdown",
   "metadata": {},
   "source": [
    "###Part B\n",
    "####Define returns"
   ]
  },
  {
   "cell_type": "code",
   "execution_count": 352,
   "metadata": {
    "collapsed": true
   },
   "outputs": [],
   "source": [
    "returns = np.linspace(-.1, 0.4, 1000)"
   ]
  },
  {
   "cell_type": "markdown",
   "metadata": {},
   "source": [
    "####Calculate the minimum risk"
   ]
  },
  {
   "cell_type": "code",
   "execution_count": 353,
   "metadata": {
    "collapsed": true
   },
   "outputs": [],
   "source": [
    "minrisk = [solveMarkowitz(mu, False) for mu in returns]"
   ]
  },
  {
   "cell_type": "markdown",
   "metadata": {},
   "source": [
    "####Select the positive values"
   ]
  },
  {
   "cell_type": "code",
   "execution_count": 354,
   "metadata": {
    "collapsed": true
   },
   "outputs": [],
   "source": [
    "minrisk_pos = [x for x in minrisk if x > 0]\n",
    "returns_pos = [y for x, y in zip(minrisk, returns) if x > 0]"
   ]
  },
  {
   "cell_type": "markdown",
   "metadata": {},
   "source": [
    "####Plot the Unconstrained Portfolio"
   ]
  },
  {
   "cell_type": "code",
   "execution_count": 355,
   "metadata": {
    "collapsed": false
   },
   "outputs": [
    {
     "data": {
      "image/png": "[encoded data removed]",
      "text/plain": [
       "<matplotlib.figure.Figure at 0x81a1630>"
      ]
     },
     "metadata": {},
     "output_type": "display_data"
    }
   ],
   "source": [
    "fig, ax = plt.subplots()\n",
    "ax.plot(minrisk_pos, returns_pos, 'rp', label = 'Unconstraind Portfolio')\n",
    "legend = ax.legend(loc = 4, numpoints = 1)\n",
    "frame = legend.get_frame()\n",
    "frame.set_facecolor('0.9')\n",
    "frame.set_edgecolor('0.9')\n",
    "ax.set_xlabel('Risk of Portfolio')\n",
    "ax.set_title('Markowitz Model Mean-Variance Optimization', y=1.01)\n",
    "ax.set_ylabel('Rate of Return');"
   ]
  },
  {
   "cell_type": "markdown",
   "metadata": {},
   "source": [
    "###Part C\n",
    "####Calculate the constrained minimum risk"
   ]
  },
  {
   "cell_type": "code",
   "execution_count": 356,
   "metadata": {
    "collapsed": false
   },
   "outputs": [],
   "source": [
    "minrisk_constrained = [solveMarkowitz(mu, True) for mu in returns]"
   ]
  },
  {
   "cell_type": "markdown",
   "metadata": {},
   "source": [
    "####Select the positive values"
   ]
  },
  {
   "cell_type": "code",
   "execution_count": 357,
   "metadata": {
    "collapsed": true
   },
   "outputs": [],
   "source": [
    "minrisk_constrained_pos = [x for x in minrisk_constrained if x > 0]\n",
    "returns_constrained_pos = [y for x, y in zip(minrisk_constrained, returns) if x > 0]"
   ]
  },
  {
   "cell_type": "markdown",
   "metadata": {},
   "source": [
    "####Plot the Constrained and Unconstrained Portfolios"
   ]
  },
  {
   "cell_type": "code",
   "execution_count": 358,
   "metadata": {
    "collapsed": false
   },
   "outputs": [
    {
     "data": {
      "image/png": "[encoded data removed]",
      "text/plain": [
       "<matplotlib.figure.Figure at 0xa2989b0>"
      ]
     },
     "metadata": {},
     "output_type": "display_data"
    }
   ],
   "source": [
    "fig, ax = plt.subplots()\n",
    "ax.plot(minrisk_pos, returns_pos, 'rp', label = 'Unconstraind Portfolio')\n",
    "ax.plot(minrisk_constrained_pos, returns_constrained_pos, 'bp', label = 'Constraind Portfolio')\n",
    "legend = ax.legend(loc = 4, numpoints = 1)\n",
    "frame = legend.get_frame()\n",
    "frame.set_facecolor('0.9')\n",
    "frame.set_edgecolor('0.9')\n",
    "ax.set_xlabel('Risk of Portfolio')\n",
    "ax.set_title('Markowitz Model Mean-Variance Optimization', y=1.01)\n",
    "ax.set_ylabel('Rate of Return');"
   ]
  }
 ],
 "metadata": {
  "kernelspec": {
   "display_name": "Python 3",
   "language": "python",
   "name": "python3"
  },
  "language_info": {
   "codemirror_mode": {
    "name": "ipython",
    "version": 3
   },
   "file_extension": ".py",
   "mimetype": "text/x-python",
   "name": "python",
   "nbconvert_exporter": "python",
   "pygments_lexer": "ipython3",
   "version": "3.4.3"
  }
 },
 "nbformat": 4,
 "nbformat_minor": 0
}
